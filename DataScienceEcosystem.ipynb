{
 "cells": [
  {
   "cell_type": "markdown",
   "id": "64d6c49a",
   "metadata": {},
   "source": [
    "# Data Science Tools and Ecosystem"
   ]
  },
  {
   "cell_type": "markdown",
   "id": "6f6d533e",
   "metadata": {},
   "source": [
    "In this notebook, Data Science Tools and Ecosystem are summarized."
   ]
  },
  {
   "cell_type": "markdown",
   "id": "0d72f6dc",
   "metadata": {},
   "source": [
    "Some of the popular languages that Data Scientists use are:\n",
    "1. Python\n",
    "2. R\n",
    "3. SQL\n",
    "4. Julia"
   ]
  },
  {
   "cell_type": "markdown",
   "id": "d9f2d427",
   "metadata": {},
   "source": [
    "Some of the commonly used libraries used by Data Scientists include:\n",
    "\n",
    "1. For Python: Numpy, Pandas, Matplotib, Seaborn, Scikit-learn, Keras, TensorFlow, PyTorch\n",
    "2. For R: Tidyverse, ggplot2, dplyr, tidyr, readr, caret, data.table\n",
    "3. For SQL: PostgreSQL, MySQL, SQLite, MongoDB\n",
    "4. For Julia: DataFrames.jl, Gadfly.jl, StatsBase.jl, JuMP.jl"
   ]
  },
  {
   "cell_type": "markdown",
   "id": "e165298f",
   "metadata": {},
   "source": [
    "|Data Science Tools|\n",
    "|----|\n",
    "|Jupyter Notebook|\n",
    "|Apache Zeppelin|\n",
    "|RStudio|"
   ]
  },
  {
   "cell_type": "markdown",
   "id": "33225ff4",
   "metadata": {},
   "source": [
    "### Below are a few examples of evaluating arithmetic expressions in Python."
   ]
  },
  {
   "cell_type": "code",
   "execution_count": 4,
   "id": "8682df0e",
   "metadata": {},
   "outputs": [
    {
     "data": {
      "text/plain": [
       "17"
      ]
     },
     "execution_count": 4,
     "metadata": {},
     "output_type": "execute_result"
    }
   ],
   "source": [
    "# This a simple arithmetic expression to multiply then add integers.\n",
    "(3*4)+5"
   ]
  },
  {
   "cell_type": "code",
   "execution_count": 5,
   "id": "e70bb30d",
   "metadata": {},
   "outputs": [
    {
     "data": {
      "text/plain": [
       "3.3333333333333335"
      ]
     },
     "execution_count": 5,
     "metadata": {},
     "output_type": "execute_result"
    }
   ],
   "source": [
    "# This will convert 200 minutes to hours by dividing by 60.\n",
    "200/60"
   ]
  },
  {
   "cell_type": "markdown",
   "id": "7186b5fb",
   "metadata": {},
   "source": [
    "**Objectives**\n",
    "\n",
    "- List popular programming languages for Data Science.\n",
    "- Discuss different types of data and how to handle them in Python.\n",
    "- Explore data using visualization techniques and libraries.\n",
    "- Introduce the basics of statistical inference and hypothesis testing."
   ]
  },
  {
   "cell_type": "markdown",
   "id": "9db8d5e2",
   "metadata": {},
   "source": [
    "## Author\n",
    "\n",
    "My name is Edward Bello."
   ]
  },
  {
   "cell_type": "code",
   "execution_count": null,
   "id": "ca28786c",
   "metadata": {},
   "outputs": [],
   "source": []
  }
 ],
 "metadata": {
  "kernelspec": {
   "display_name": "Python 3 (ipykernel)",
   "language": "python",
   "name": "python3"
  },
  "language_info": {
   "codemirror_mode": {
    "name": "ipython",
    "version": 3
   },
   "file_extension": ".py",
   "mimetype": "text/x-python",
   "name": "python",
   "nbconvert_exporter": "python",
   "pygments_lexer": "ipython3",
   "version": "3.11.7"
  }
 },
 "nbformat": 4,
 "nbformat_minor": 5
}
